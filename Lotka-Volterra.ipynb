{
 "cells": [
  {
   "cell_type": "code",
   "execution_count": null,
   "metadata": {},
   "outputs": [],
   "source": [
    "from numpy import *\n",
    "from scipy import integrate\n",
    "from matplotlib import *\n",
    "import pylab\n",
    "\n",
    "a = 1.0\n",
    "b = 0.5\n",
    "c = 0.5\n",
    "d = 2\n",
    "        \n",
    "def get_dx(arr_xy):\n",
    "    return a*arr_xy[0] - b*arr_xy[0]*arr_xy[1]\n",
    "    \n",
    "def get_dy(arr_xy):\n",
    "    return c*arr_xy[0]*arr_xy[1] - d*arr_xy[1]\n",
    "    \n",
    "def get_dx_dt(arr_xy, t=0):\n",
    "    return(get_dx(arr_xy), get_dy(arr_xy))"
   ]
  },
  {
   "cell_type": "markdown",
   "metadata": {},
   "source": []
  },
  {
   "cell_type": "code",
   "execution_count": null,
   "metadata": {},
   "outputs": [],
   "source": [
    "init_xy = [2, 2]\n",
    "t = linspace(0, 30,  1000)      \n",
    "arr_xy = integrate.odeint(get_dx_dt, init_xy, t)"
   ]
  },
  {
   "cell_type": "code",
   "execution_count": null,
   "metadata": {},
   "outputs": [],
   "source": [
    "rabbits, foxes = arr_xy.T\n",
    "fig = pylab.figure()\n",
    "pylab.plot(t, rabbits, 'r-', label='Rabbits')\n",
    "pylab.plot(t, foxes  , 'b-', label='Foxes')\n",
    "pylab.grid()\n",
    "pylab.legend(loc='best')\n",
    "pylab.xlabel('Time')\n",
    "pylab.ylabel('Population (thousands)')\n",
    "pylab.title('Population of rabbits and foxes over time')"
   ]
  },
  {
   "cell_type": "markdown",
   "metadata": {},
   "source": []
  },
  {
   "cell_type": "code",
   "execution_count": null,
   "metadata": {},
   "outputs": [],
   "source": []
  },
  {
   "cell_type": "code",
   "execution_count": null,
   "metadata": {},
   "outputs": [],
   "source": []
  },
  {
   "cell_type": "code",
   "execution_count": null,
   "metadata": {},
   "outputs": [],
   "source": []
  }
 ],
 "metadata": {
  "kernelspec": {
   "display_name": "Python 3",
   "language": "python",
   "name": "python3"
  },
  "language_info": {
   "codemirror_mode": {
    "name": "ipython",
    "version": 3
   },
   "file_extension": ".py",
   "mimetype": "text/x-python",
   "name": "python",
   "nbconvert_exporter": "python",
   "pygments_lexer": "ipython3",
   "version": "3.6.1"
  }
 },
 "nbformat": 4,
 "nbformat_minor": 2
}
